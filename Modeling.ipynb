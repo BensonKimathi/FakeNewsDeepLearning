{
  "nbformat": 4,
  "nbformat_minor": 0,
  "metadata": {
    "colab": {
      "name": "Modeling.ipynb",
      "provenance": [],
      "collapsed_sections": [
        "srnkYN3XtBG7",
        "0ZPB0nmx_nzT",
        "QWx3UslRs5_Z",
        "1KrfWuvMs8dP"
      ],
      "toc_visible": true
    },
    "kernelspec": {
      "name": "python3",
      "display_name": "Python 3"
    },
    "accelerator": "GPU",
    "widgets": {
      "application/vnd.jupyter.widget-state+json": {
        "74b38c71a0bf429b9410639ad163f05c": {
          "model_module": "@jupyter-widgets/controls",
          "model_name": "HBoxModel",
          "state": {
            "_view_name": "HBoxView",
            "_dom_classes": [],
            "_model_name": "HBoxModel",
            "_view_module": "@jupyter-widgets/controls",
            "_model_module_version": "1.5.0",
            "_view_count": null,
            "_view_module_version": "1.5.0",
            "box_style": "",
            "layout": "IPY_MODEL_527409c0cfc649f8a7c92e763144b08c",
            "_model_module": "@jupyter-widgets/controls",
            "children": [
              "IPY_MODEL_26b137ad3f174023a302bddf59b81900",
              "IPY_MODEL_4146c4dd98fe415cb9026492d1ff22e2"
            ]
          }
        },
        "527409c0cfc649f8a7c92e763144b08c": {
          "model_module": "@jupyter-widgets/base",
          "model_name": "LayoutModel",
          "state": {
            "_view_name": "LayoutView",
            "grid_template_rows": null,
            "right": null,
            "justify_content": null,
            "_view_module": "@jupyter-widgets/base",
            "overflow": null,
            "_model_module_version": "1.2.0",
            "_view_count": null,
            "flex_flow": null,
            "width": null,
            "min_width": null,
            "border": null,
            "align_items": null,
            "bottom": null,
            "_model_module": "@jupyter-widgets/base",
            "top": null,
            "grid_column": null,
            "overflow_y": null,
            "overflow_x": null,
            "grid_auto_flow": null,
            "grid_area": null,
            "grid_template_columns": null,
            "flex": null,
            "_model_name": "LayoutModel",
            "justify_items": null,
            "grid_row": null,
            "max_height": null,
            "align_content": null,
            "visibility": null,
            "align_self": null,
            "height": null,
            "min_height": null,
            "padding": null,
            "grid_auto_rows": null,
            "grid_gap": null,
            "max_width": null,
            "order": null,
            "_view_module_version": "1.2.0",
            "grid_template_areas": null,
            "object_position": null,
            "object_fit": null,
            "grid_auto_columns": null,
            "margin": null,
            "display": null,
            "left": null
          }
        },
        "26b137ad3f174023a302bddf59b81900": {
          "model_module": "@jupyter-widgets/controls",
          "model_name": "IntProgressModel",
          "state": {
            "_view_name": "ProgressView",
            "style": "IPY_MODEL_0ab27068e3434e97a119812517ac3c0b",
            "_dom_classes": [],
            "description": "Downloading: 100%",
            "_model_name": "IntProgressModel",
            "bar_style": "success",
            "max": 231508,
            "_view_module": "@jupyter-widgets/controls",
            "_model_module_version": "1.5.0",
            "value": 231508,
            "_view_count": null,
            "_view_module_version": "1.5.0",
            "orientation": "horizontal",
            "min": 0,
            "description_tooltip": null,
            "_model_module": "@jupyter-widgets/controls",
            "layout": "IPY_MODEL_6232b8b4f2d047218bd49978714a12be"
          }
        },
        "4146c4dd98fe415cb9026492d1ff22e2": {
          "model_module": "@jupyter-widgets/controls",
          "model_name": "HTMLModel",
          "state": {
            "_view_name": "HTMLView",
            "style": "IPY_MODEL_ab590566b5fa4726b27579b9049b17d6",
            "_dom_classes": [],
            "description": "",
            "_model_name": "HTMLModel",
            "placeholder": "​",
            "_view_module": "@jupyter-widgets/controls",
            "_model_module_version": "1.5.0",
            "value": " 232k/232k [00:00&lt;00:00, 253kB/s]",
            "_view_count": null,
            "_view_module_version": "1.5.0",
            "description_tooltip": null,
            "_model_module": "@jupyter-widgets/controls",
            "layout": "IPY_MODEL_2a83c1ae880b4db1964b74643c778851"
          }
        },
        "0ab27068e3434e97a119812517ac3c0b": {
          "model_module": "@jupyter-widgets/controls",
          "model_name": "ProgressStyleModel",
          "state": {
            "_view_name": "StyleView",
            "_model_name": "ProgressStyleModel",
            "description_width": "initial",
            "_view_module": "@jupyter-widgets/base",
            "_model_module_version": "1.5.0",
            "_view_count": null,
            "_view_module_version": "1.2.0",
            "bar_color": null,
            "_model_module": "@jupyter-widgets/controls"
          }
        },
        "6232b8b4f2d047218bd49978714a12be": {
          "model_module": "@jupyter-widgets/base",
          "model_name": "LayoutModel",
          "state": {
            "_view_name": "LayoutView",
            "grid_template_rows": null,
            "right": null,
            "justify_content": null,
            "_view_module": "@jupyter-widgets/base",
            "overflow": null,
            "_model_module_version": "1.2.0",
            "_view_count": null,
            "flex_flow": null,
            "width": null,
            "min_width": null,
            "border": null,
            "align_items": null,
            "bottom": null,
            "_model_module": "@jupyter-widgets/base",
            "top": null,
            "grid_column": null,
            "overflow_y": null,
            "overflow_x": null,
            "grid_auto_flow": null,
            "grid_area": null,
            "grid_template_columns": null,
            "flex": null,
            "_model_name": "LayoutModel",
            "justify_items": null,
            "grid_row": null,
            "max_height": null,
            "align_content": null,
            "visibility": null,
            "align_self": null,
            "height": null,
            "min_height": null,
            "padding": null,
            "grid_auto_rows": null,
            "grid_gap": null,
            "max_width": null,
            "order": null,
            "_view_module_version": "1.2.0",
            "grid_template_areas": null,
            "object_position": null,
            "object_fit": null,
            "grid_auto_columns": null,
            "margin": null,
            "display": null,
            "left": null
          }
        },
        "ab590566b5fa4726b27579b9049b17d6": {
          "model_module": "@jupyter-widgets/controls",
          "model_name": "DescriptionStyleModel",
          "state": {
            "_view_name": "StyleView",
            "_model_name": "DescriptionStyleModel",
            "description_width": "",
            "_view_module": "@jupyter-widgets/base",
            "_model_module_version": "1.5.0",
            "_view_count": null,
            "_view_module_version": "1.2.0",
            "_model_module": "@jupyter-widgets/controls"
          }
        },
        "2a83c1ae880b4db1964b74643c778851": {
          "model_module": "@jupyter-widgets/base",
          "model_name": "LayoutModel",
          "state": {
            "_view_name": "LayoutView",
            "grid_template_rows": null,
            "right": null,
            "justify_content": null,
            "_view_module": "@jupyter-widgets/base",
            "overflow": null,
            "_model_module_version": "1.2.0",
            "_view_count": null,
            "flex_flow": null,
            "width": null,
            "min_width": null,
            "border": null,
            "align_items": null,
            "bottom": null,
            "_model_module": "@jupyter-widgets/base",
            "top": null,
            "grid_column": null,
            "overflow_y": null,
            "overflow_x": null,
            "grid_auto_flow": null,
            "grid_area": null,
            "grid_template_columns": null,
            "flex": null,
            "_model_name": "LayoutModel",
            "justify_items": null,
            "grid_row": null,
            "max_height": null,
            "align_content": null,
            "visibility": null,
            "align_self": null,
            "height": null,
            "min_height": null,
            "padding": null,
            "grid_auto_rows": null,
            "grid_gap": null,
            "max_width": null,
            "order": null,
            "_view_module_version": "1.2.0",
            "grid_template_areas": null,
            "object_position": null,
            "object_fit": null,
            "grid_auto_columns": null,
            "margin": null,
            "display": null,
            "left": null
          }
        }
      }
    }
  },
  "cells": [
    {
      "cell_type": "code",
      "metadata": {
        "id": "SJ-R3ooz_iOJ",
        "colab_type": "code",
        "outputId": "98115fdb-6226-402d-8b7e-8b59bfadb3c5",
        "colab": {
          "base_uri": "https://localhost:8080/",
          "height": 72
        }
      },
      "source": [
        "import pandas as pd\n",
        "import numpy as np\n",
        "import seaborn as sns\n",
        "import matplotlib.pyplot as plt\n",
        "import nltk\n",
        "import sklearn\n",
        "from sklearn import metrics\n",
        "import seaborn as sns\n",
        "from sklearn.metrics import mean_squared_error"
      ],
      "execution_count": 1,
      "outputs": [
        {
          "output_type": "stream",
          "text": [
            "/usr/local/lib/python3.6/dist-packages/statsmodels/tools/_testing.py:19: FutureWarning: pandas.util.testing is deprecated. Use the functions in the public API at pandas.testing instead.\n",
            "  import pandas.util.testing as tm\n"
          ],
          "name": "stderr"
        }
      ]
    },
    {
      "cell_type": "code",
      "metadata": {
        "id": "cU5BcOXW2S8V",
        "colab_type": "code",
        "colab": {}
      },
      "source": [
        "import torch\n",
        "device = torch.device(\"cuda\") #set pytorch to be used on GPU"
      ],
      "execution_count": 0,
      "outputs": []
    },
    {
      "cell_type": "code",
      "metadata": {
        "id": "pMRZ6UXQ05GG",
        "colab_type": "code",
        "colab": {}
      },
      "source": [
        "#Get interface for working with PyTorch\n",
        "!pip install transformers"
      ],
      "execution_count": 0,
      "outputs": []
    },
    {
      "cell_type": "code",
      "metadata": {
        "id": "a0NDg6cule-R",
        "colab_type": "code",
        "colab": {}
      },
      "source": [
        "import transformers"
      ],
      "execution_count": 0,
      "outputs": []
    },
    {
      "cell_type": "code",
      "metadata": {
        "id": "2kAbDH75o3dI",
        "colab_type": "code",
        "outputId": "c361dee9-3879-4dce-fb49-da0d6baf4c46",
        "colab": {
          "base_uri": "https://localhost:8080/",
          "height": 124
        }
      },
      "source": [
        "import os\n",
        "from google.colab import drive\n",
        "\n",
        "# Mount google drive\n",
        "DRIVE_MOUNT='/content/gdrive'\n",
        "drive.mount(DRIVE_MOUNT)\n",
        "\n",
        "# create folder to write data to\n",
        "CIS545_FOLDER=os.path.join(DRIVE_MOUNT, 'My Drive', 'CIS545_2020')\n",
        "HOMEWORK_FOLDER=os.path.join(CIS545_FOLDER, 'Project')\n",
        "os.makedirs(HOMEWORK_FOLDER, exist_ok=True)"
      ],
      "execution_count": 2,
      "outputs": [
        {
          "output_type": "stream",
          "text": [
            "Go to this URL in a browser: https://accounts.google.com/o/oauth2/auth?client_id=947318989803-6bn6qk8qdgf4n4g3pfee6491hc0brc4i.apps.googleusercontent.com&redirect_uri=urn%3aietf%3awg%3aoauth%3a2.0%3aoob&response_type=code&scope=email%20https%3a%2f%2fwww.googleapis.com%2fauth%2fdocs.test%20https%3a%2f%2fwww.googleapis.com%2fauth%2fdrive%20https%3a%2f%2fwww.googleapis.com%2fauth%2fdrive.photos.readonly%20https%3a%2f%2fwww.googleapis.com%2fauth%2fpeopleapi.readonly\n",
            "\n",
            "Enter your authorization code:\n",
            "··········\n",
            "Mounted at /content/gdrive\n"
          ],
          "name": "stdout"
        }
      ]
    },
    {
      "cell_type": "code",
      "metadata": {
        "id": "I6Z77Z2Jo37b",
        "colab_type": "code",
        "colab": {}
      },
      "source": [
        "x_train = pd.read_csv('/content/gdrive/My Drive/CIS545_2020/Project/training_data.csv')\n",
        "x_test = pd.read_csv('/content/gdrive/My Drive/CIS545_2020/Project/testing_data.csv')\n",
        "y_train = pd.read_csv('/content/gdrive/My Drive/CIS545_2020/Project/train_labels.csv')\n",
        "y_test = pd.read_csv('/content/gdrive/My Drive/CIS545_2020/Project/test_labels.csv')"
      ],
      "execution_count": 0,
      "outputs": []
    },
    {
      "cell_type": "code",
      "metadata": {
        "id": "ZcyjEsEstPaH",
        "colab_type": "code",
        "colab": {}
      },
      "source": [
        "x_train.drop(columns=['Unnamed: 0'], inplace = True)\n",
        "x_test.drop(columns=['Unnamed: 0'], inplace = True)\n",
        "y_train.drop(columns=['Unnamed: 0'], inplace = True)\n",
        "y_test.drop(columns=['Unnamed: 0'], inplace = True)"
      ],
      "execution_count": 0,
      "outputs": []
    },
    {
      "cell_type": "code",
      "metadata": {
        "id": "vCVIqBqh3ivU",
        "colab_type": "code",
        "colab": {}
      },
      "source": [
        "fake = pd.read_csv('/content/gdrive/My Drive/CIS545_2020/Project/fakeForModeling.csv')\n",
        "true = pd.read_csv('/content/gdrive/My Drive/CIS545_2020/Project/trueForModeling.csv')"
      ],
      "execution_count": 0,
      "outputs": []
    },
    {
      "cell_type": "code",
      "metadata": {
        "id": "Z5wX1Nir_HbJ",
        "colab_type": "code",
        "colab": {}
      },
      "source": [
        "fake.drop(columns=['Unnamed: 0'], inplace = True)\n",
        "true.drop(columns=['Unnamed: 0'], inplace = True)"
      ],
      "execution_count": 0,
      "outputs": []
    },
    {
      "cell_type": "markdown",
      "metadata": {
        "id": "srnkYN3XtBG7",
        "colab_type": "text"
      },
      "source": [
        "# Binomial Logistic Regression"
      ]
    },
    {
      "cell_type": "code",
      "metadata": {
        "id": "pv31pm4A5EUg",
        "colab_type": "code",
        "outputId": "3f309499-da63-4578-9216-716c66327622",
        "colab": {
          "base_uri": "https://localhost:8080/",
          "height": 104
        }
      },
      "source": [
        "from sklearn.linear_model import LogisticRegression\n",
        "\n",
        "# 2. instantiate a logistic regression model\n",
        "lr = LogisticRegression()\n",
        "\n",
        "lr.fit(x_train, np.ravel(y_train))"
      ],
      "execution_count": 5,
      "outputs": [
        {
          "output_type": "execute_result",
          "data": {
            "text/plain": [
              "LogisticRegression(C=1.0, class_weight=None, dual=False, fit_intercept=True,\n",
              "                   intercept_scaling=1, l1_ratio=None, max_iter=100,\n",
              "                   multi_class='auto', n_jobs=None, penalty='l2',\n",
              "                   random_state=None, solver='lbfgs', tol=0.0001, verbose=0,\n",
              "                   warm_start=False)"
            ]
          },
          "metadata": {
            "tags": []
          },
          "execution_count": 5
        }
      ]
    },
    {
      "cell_type": "code",
      "metadata": {
        "id": "XcFX6fyQ5JiI",
        "colab_type": "code",
        "colab": {}
      },
      "source": [
        "y_pred_lr = lr.predict(x_test)"
      ],
      "execution_count": 0,
      "outputs": []
    },
    {
      "cell_type": "code",
      "metadata": {
        "id": "8DYiAdLT5P6Z",
        "colab_type": "code",
        "outputId": "51e4dc23-a6ca-494f-c0c7-d99676cfcac3",
        "colab": {
          "base_uri": "https://localhost:8080/",
          "height": 52
        }
      },
      "source": [
        "print (\"Accuracy is: \", metrics.accuracy_score(y_test, y_pred_lr))\n",
        "print(\"Mean Squared Error is:\", np.sqrt(mean_squared_error(y_test, y_pred_lr)))"
      ],
      "execution_count": 7,
      "outputs": [
        {
          "output_type": "stream",
          "text": [
            "Accuracy is:  0.8941226849373729\n",
            "Mean Squared Error is: 0.32538794547835836\n"
          ],
          "name": "stdout"
        }
      ]
    },
    {
      "cell_type": "code",
      "metadata": {
        "id": "j4s3g8e6A0Fc",
        "colab_type": "code",
        "outputId": "3053ed46-e645-4671-b84e-ad227bfb90f3",
        "colab": {
          "base_uri": "https://localhost:8080/",
          "height": 52
        }
      },
      "source": [
        "lr_cm = metrics.confusion_matrix(y_test, y_pred_lr)\n",
        "print (lr_cm)"
      ],
      "execution_count": 8,
      "outputs": [
        {
          "output_type": "stream",
          "text": [
            "[[4017  505]\n",
            " [ 484 4335]]\n"
          ],
          "name": "stdout"
        }
      ]
    },
    {
      "cell_type": "code",
      "metadata": {
        "id": "HdtfsVL0B6Ef",
        "colab_type": "code",
        "outputId": "da67dae6-8b5a-433a-f40a-bc5583b4b7a9",
        "colab": {
          "base_uri": "https://localhost:8080/",
          "height": 265
        }
      },
      "source": [
        "labels = np.array([['4017','505'],['484','4335']])\n",
        "sns.heatmap(lr_cm, annot=labels, fmt = '')\n",
        "plt.show()"
      ],
      "execution_count": 9,
      "outputs": [
        {
          "output_type": "display_data",
          "data": {
            "image/png": "[encoded data removed]",
            "text/plain": [
              "<Figure size 432x288 with 2 Axes>"
            ]
          },
          "metadata": {
            "tags": [],
            "needs_background": "light"
          }
        }
      ]
    },
    {
      "cell_type": "code",
      "metadata": {
        "id": "w2IIbRmpk6Nm",
        "colab_type": "code",
        "colab": {
          "base_uri": "https://localhost:8080/",
          "height": 173
        },
        "outputId": "f9a1198a-26c8-453b-b73d-bc7400744e02"
      },
      "source": [
        "print(metrics.classification_report(y_test, y_pred_lr))"
      ],
      "execution_count": 10,
      "outputs": [
        {
          "output_type": "stream",
          "text": [
            "              precision    recall  f1-score   support\n",
            "\n",
            "           0       0.89      0.89      0.89      4522\n",
            "           1       0.90      0.90      0.90      4819\n",
            "\n",
            "    accuracy                           0.89      9341\n",
            "   macro avg       0.89      0.89      0.89      9341\n",
            "weighted avg       0.89      0.89      0.89      9341\n",
            "\n"
          ],
          "name": "stdout"
        }
      ]
    },
    {
      "cell_type": "code",
      "metadata": {
        "id": "9CY7X2FnCTdn",
        "colab_type": "code",
        "colab": {}
      },
      "source": [
        "# Calculate predicted probabilities for test data \n",
        "y_pred_prob_lr = lr.predict_proba(x_test)[:, 1]"
      ],
      "execution_count": 0,
      "outputs": []
    },
    {
      "cell_type": "code",
      "metadata": {
        "id": "Fz7AE2gP5bFE",
        "colab_type": "code",
        "outputId": "f2b14c73-08b5-4aee-b738-35e062f4c8ff",
        "colab": {
          "base_uri": "https://localhost:8080/",
          "height": 35
        }
      },
      "source": [
        "metrics.roc_auc_score(y_test, y_pred_prob_lr)"
      ],
      "execution_count": 12,
      "outputs": [
        {
          "output_type": "execute_result",
          "data": {
            "text/plain": [
              "0.9554417686734811"
            ]
          },
          "metadata": {
            "tags": []
          },
          "execution_count": 12
        }
      ]
    },
    {
      "cell_type": "markdown",
      "metadata": {
        "id": "0ZPB0nmx_nzT",
        "colab_type": "text"
      },
      "source": [
        "# Naive Bayes"
      ]
    },
    {
      "cell_type": "code",
      "metadata": {
        "id": "N0fdHCwj_qsi",
        "colab_type": "code",
        "outputId": "4c8d2a2f-89b2-4fa6-c0b6-93acd8316c2e",
        "colab": {
          "base_uri": "https://localhost:8080/",
          "height": 69
        }
      },
      "source": [
        "from nltk import classify\n",
        "from nltk import NaiveBayesClassifier\n",
        "from sklearn.naive_bayes import MultinomialNB\n",
        "\n",
        "nb = MultinomialNB()# one of the two classic naive Bayes variants used in text classification\n",
        "\n",
        "%time nb.fit(x_train, np.ravel(y_train))"
      ],
      "execution_count": 16,
      "outputs": [
        {
          "output_type": "stream",
          "text": [
            "CPU times: user 42.1 ms, sys: 1.46 ms, total: 43.6 ms\n",
            "Wall time: 39.6 ms\n"
          ],
          "name": "stdout"
        },
        {
          "output_type": "execute_result",
          "data": {
            "text/plain": [
              "MultinomialNB(alpha=1.0, class_prior=None, fit_prior=True)"
            ]
          },
          "metadata": {
            "tags": []
          },
          "execution_count": 16
        }
      ]
    },
    {
      "cell_type": "code",
      "metadata": {
        "id": "YU82695MNHjV",
        "colab_type": "code",
        "colab": {}
      },
      "source": [
        "y_pred_class = nb.predict(x_test)"
      ],
      "execution_count": 0,
      "outputs": []
    },
    {
      "cell_type": "code",
      "metadata": {
        "id": "KHOh_T8MCX8t",
        "colab_type": "code",
        "outputId": "a7d07552-b40f-449b-c5c9-459db655ceeb",
        "colab": {
          "base_uri": "https://localhost:8080/",
          "height": 52
        }
      },
      "source": [
        "print(\"Accuracy is:\", metrics.accuracy_score(y_test, y_pred_class))\n",
        "print(\"Mean Squared Error is:\", np.sqrt(mean_squared_error(y_test, y_pred_class)))"
      ],
      "execution_count": 18,
      "outputs": [
        {
          "output_type": "stream",
          "text": [
            "Accuracy is: 0.8610427149127502\n",
            "Mean Squared Error is: 0.3727697480848597\n"
          ],
          "name": "stdout"
        }
      ]
    },
    {
      "cell_type": "code",
      "metadata": {
        "id": "5Y5GcLuCNPQK",
        "colab_type": "code",
        "outputId": "e24172fb-3223-4bae-ec78-bf646ef1397b",
        "colab": {
          "base_uri": "https://localhost:8080/",
          "height": 52
        }
      },
      "source": [
        "nb_cm = metrics.confusion_matrix(y_test, y_pred_class)\n",
        "print(nb_cm)"
      ],
      "execution_count": 19,
      "outputs": [
        {
          "output_type": "stream",
          "text": [
            "[[3876  646]\n",
            " [ 652 4167]]\n"
          ],
          "name": "stdout"
        }
      ]
    },
    {
      "cell_type": "code",
      "metadata": {
        "id": "5-_gA6i4CjX0",
        "colab_type": "code",
        "outputId": "81a44919-343c-4134-d2f2-57581c4705d3",
        "colab": {
          "base_uri": "https://localhost:8080/",
          "height": 265
        }
      },
      "source": [
        "labels =  np.array([['3876','646'],['652','4167']])\n",
        "sns.heatmap(nb_cm, annot=labels, fmt = '')\n",
        "plt.show()"
      ],
      "execution_count": 20,
      "outputs": [
        {
          "output_type": "display_data",
          "data": {
            "image/png": "[encoded data removed]",
            "text/plain": [
              "<Figure size 432x288 with 2 Axes>"
            ]
          },
          "metadata": {
            "tags": [],
            "needs_background": "light"
          }
        }
      ]
    },
    {
      "cell_type": "code",
      "metadata": {
        "id": "01Z_Wcs_kvND",
        "colab_type": "code",
        "colab": {
          "base_uri": "https://localhost:8080/",
          "height": 173
        },
        "outputId": "3618dc1f-2c85-497d-e8b3-6b7bfe799d3d"
      },
      "source": [
        "print(metrics.classification_report(y_test, y_pred_class))"
      ],
      "execution_count": 21,
      "outputs": [
        {
          "output_type": "stream",
          "text": [
            "              precision    recall  f1-score   support\n",
            "\n",
            "           0       0.86      0.86      0.86      4522\n",
            "           1       0.87      0.86      0.87      4819\n",
            "\n",
            "    accuracy                           0.86      9341\n",
            "   macro avg       0.86      0.86      0.86      9341\n",
            "weighted avg       0.86      0.86      0.86      9341\n",
            "\n"
          ],
          "name": "stdout"
        }
      ]
    },
    {
      "cell_type": "code",
      "metadata": {
        "id": "xL-5v2B65jkB",
        "colab_type": "code",
        "colab": {}
      },
      "source": [
        "# Calculate predicted probabilities for test data \n",
        "y_pred_prob_nb = nb.predict_proba(x_test)[:, 1]"
      ],
      "execution_count": 0,
      "outputs": []
    },
    {
      "cell_type": "code",
      "metadata": {
        "id": "_SjyxT3O5nFy",
        "colab_type": "code",
        "outputId": "f84f5098-ea4d-4945-b823-a326e5b0f4f0",
        "colab": {
          "base_uri": "https://localhost:8080/",
          "height": 35
        }
      },
      "source": [
        "metrics.roc_auc_score(y_test, y_pred_prob_nb)"
      ],
      "execution_count": 23,
      "outputs": [
        {
          "output_type": "execute_result",
          "data": {
            "text/plain": [
              "0.9307757036476302"
            ]
          },
          "metadata": {
            "tags": []
          },
          "execution_count": 23
        }
      ]
    },
    {
      "cell_type": "markdown",
      "metadata": {
        "id": "kl8bID4V8pFL",
        "colab_type": "text"
      },
      "source": [
        "See which words have the biggest indication of Fake news and which words have the biggest indication of Real News"
      ]
    },
    {
      "cell_type": "code",
      "metadata": {
        "id": "HsZQ4C1B3B2r",
        "colab_type": "code",
        "colab": {}
      },
      "source": [
        "#Number of times token appears in each True article\n",
        "true_token = nb.feature_count_[0, :]\n",
        "\n",
        "#Number of times token appears in each Fake article\n",
        "fake_token = nb.feature_count_[1, :]"
      ],
      "execution_count": 0,
      "outputs": []
    },
    {
      "cell_type": "code",
      "metadata": {
        "id": "nHp9b7239CYJ",
        "colab_type": "code",
        "outputId": "e45c04ad-bfa0-4a46-85c9-d4dc82e9772c",
        "colab": {
          "base_uri": "https://localhost:8080/",
          "height": 228
        }
      },
      "source": [
        "tokens = pd.DataFrame({'token':x_train.columns, 'true':true_token, 'fake':fake_token}).set_index('token')\n",
        "tokens.head()"
      ],
      "execution_count": 56,
      "outputs": [
        {
          "output_type": "execute_result",
          "data": {
            "text/html": [
              "<div>\n",
              "<style scoped>\n",
              "    .dataframe tbody tr th:only-of-type {\n",
              "        vertical-align: middle;\n",
              "    }\n",
              "\n",
              "    .dataframe tbody tr th {\n",
              "        vertical-align: top;\n",
              "    }\n",
              "\n",
              "    .dataframe thead th {\n",
              "        text-align: right;\n",
              "    }\n",
              "</style>\n",
              "<table border=\"1\" class=\"dataframe\">\n",
              "  <thead>\n",
              "    <tr style=\"text-align: right;\">\n",
              "      <th></th>\n",
              "      <th>true</th>\n",
              "      <th>fake</th>\n",
              "    </tr>\n",
              "    <tr>\n",
              "      <th>token</th>\n",
              "      <th></th>\n",
              "      <th></th>\n",
              "    </tr>\n",
              "  </thead>\n",
              "  <tbody>\n",
              "    <tr>\n",
              "      <th>according</th>\n",
              "      <td>391.543167</td>\n",
              "      <td>407.032347</td>\n",
              "    </tr>\n",
              "    <tr>\n",
              "      <th>act</th>\n",
              "      <td>221.037092</td>\n",
              "      <td>281.428699</td>\n",
              "    </tr>\n",
              "    <tr>\n",
              "      <th>action</th>\n",
              "      <td>285.273320</td>\n",
              "      <td>278.263287</td>\n",
              "    </tr>\n",
              "    <tr>\n",
              "      <th>added</th>\n",
              "      <td>315.779870</td>\n",
              "      <td>164.326046</td>\n",
              "    </tr>\n",
              "    <tr>\n",
              "      <th>administration</th>\n",
              "      <td>498.607789</td>\n",
              "      <td>352.136160</td>\n",
              "    </tr>\n",
              "  </tbody>\n",
              "</table>\n",
              "</div>"
            ],
            "text/plain": [
              "                      true        fake\n",
              "token                                 \n",
              "according       391.543167  407.032347\n",
              "act             221.037092  281.428699\n",
              "action          285.273320  278.263287\n",
              "added           315.779870  164.326046\n",
              "administration  498.607789  352.136160"
            ]
          },
          "metadata": {
            "tags": []
          },
          "execution_count": 56
        }
      ]
    },
    {
      "cell_type": "code",
      "metadata": {
        "id": "lDS8pCQM9dvf",
        "colab_type": "code",
        "colab": {}
      },
      "source": [
        "# add 1 to true and fake counts to avoid dividing by 0\n",
        "tokens['true'] = tokens.true + 1\n",
        "tokens['fake'] = tokens.fake + 1"
      ],
      "execution_count": 0,
      "outputs": []
    },
    {
      "cell_type": "code",
      "metadata": {
        "id": "S-KObV8Y9huu",
        "colab_type": "code",
        "colab": {}
      },
      "source": [
        "# convert the true and fake counts into frequencies\n",
        "tokens['true'] = tokens.true / nb.class_count_[0]\n",
        "tokens['fake'] = tokens.fake / nb.class_count_[1]"
      ],
      "execution_count": 0,
      "outputs": []
    },
    {
      "cell_type": "code",
      "metadata": {
        "id": "r62ygt3A9rLq",
        "colab_type": "code",
        "outputId": "2536e16a-b829-4188-f567-cd36347f2b41",
        "colab": {
          "base_uri": "https://localhost:8080/",
          "height": 378
        }
      },
      "source": [
        "# calculate the ratio of fake to true for each token\n",
        "tokens['fake/true ratio'] = tokens.fake / tokens.true\n",
        "tokens.sort_values('fake/true ratio', ascending=False).head(10)"
      ],
      "execution_count": 59,
      "outputs": [
        {
          "output_type": "execute_result",
          "data": {
            "text/html": [
              "<div>\n",
              "<style scoped>\n",
              "    .dataframe tbody tr th:only-of-type {\n",
              "        vertical-align: middle;\n",
              "    }\n",
              "\n",
              "    .dataframe tbody tr th {\n",
              "        vertical-align: top;\n",
              "    }\n",
              "\n",
              "    .dataframe thead th {\n",
              "        text-align: right;\n",
              "    }\n",
              "</style>\n",
              "<table border=\"1\" class=\"dataframe\">\n",
              "  <thead>\n",
              "    <tr style=\"text-align: right;\">\n",
              "      <th></th>\n",
              "      <th>true</th>\n",
              "      <th>fake</th>\n",
              "      <th>fake/true ratio</th>\n",
              "    </tr>\n",
              "    <tr>\n",
              "      <th>token</th>\n",
              "      <th></th>\n",
              "      <th></th>\n",
              "      <th></th>\n",
              "    </tr>\n",
              "  </thead>\n",
              "  <tbody>\n",
              "    <tr>\n",
              "      <th>video</th>\n",
              "      <td>0.005782</td>\n",
              "      <td>0.040030</td>\n",
              "      <td>6.923142</td>\n",
              "    </tr>\n",
              "    <tr>\n",
              "      <th>fact</th>\n",
              "      <td>0.004353</td>\n",
              "      <td>0.025581</td>\n",
              "      <td>5.876533</td>\n",
              "    </tr>\n",
              "    <tr>\n",
              "      <th>hillary</th>\n",
              "      <td>0.008762</td>\n",
              "      <td>0.047256</td>\n",
              "      <td>5.393014</td>\n",
              "    </tr>\n",
              "    <tr>\n",
              "      <th>really</th>\n",
              "      <td>0.005104</td>\n",
              "      <td>0.025209</td>\n",
              "      <td>4.938970</td>\n",
              "    </tr>\n",
              "    <tr>\n",
              "      <th>got</th>\n",
              "      <td>0.004439</td>\n",
              "      <td>0.021494</td>\n",
              "      <td>4.842391</td>\n",
              "    </tr>\n",
              "    <tr>\n",
              "      <th>know</th>\n",
              "      <td>0.008978</td>\n",
              "      <td>0.039264</td>\n",
              "      <td>4.373402</td>\n",
              "    </tr>\n",
              "    <tr>\n",
              "      <th>america</th>\n",
              "      <td>0.008584</td>\n",
              "      <td>0.037274</td>\n",
              "      <td>4.342246</td>\n",
              "    </tr>\n",
              "    <tr>\n",
              "      <th>story</th>\n",
              "      <td>0.005492</td>\n",
              "      <td>0.022700</td>\n",
              "      <td>4.133175</td>\n",
              "    </tr>\n",
              "    <tr>\n",
              "      <th>went</th>\n",
              "      <td>0.004823</td>\n",
              "      <td>0.019103</td>\n",
              "      <td>3.960777</td>\n",
              "    </tr>\n",
              "    <tr>\n",
              "      <th>thing</th>\n",
              "      <td>0.007939</td>\n",
              "      <td>0.031229</td>\n",
              "      <td>3.933433</td>\n",
              "    </tr>\n",
              "  </tbody>\n",
              "</table>\n",
              "</div>"
            ],
            "text/plain": [
              "             true      fake  fake/true ratio\n",
              "token                                       \n",
              "video    0.005782  0.040030         6.923142\n",
              "fact     0.004353  0.025581         5.876533\n",
              "hillary  0.008762  0.047256         5.393014\n",
              "really   0.005104  0.025209         4.938970\n",
              "got      0.004439  0.021494         4.842391\n",
              "know     0.008978  0.039264         4.373402\n",
              "america  0.008584  0.037274         4.342246\n",
              "story    0.005492  0.022700         4.133175\n",
              "went     0.004823  0.019103         3.960777\n",
              "thing    0.007939  0.031229         3.933433"
            ]
          },
          "metadata": {
            "tags": []
          },
          "execution_count": 59
        }
      ]
    },
    {
      "cell_type": "code",
      "metadata": {
        "id": "phoTGMVpxZlw",
        "colab_type": "code",
        "outputId": "9807f2e3-f766-4222-ea3d-54fba35d54aa",
        "colab": {
          "base_uri": "https://localhost:8080/",
          "height": 378
        }
      },
      "source": [
        "tokens.sort_values('fake/true ratio', ascending=True).head(10)"
      ],
      "execution_count": 60,
      "outputs": [
        {
          "output_type": "execute_result",
          "data": {
            "text/html": [
              "<div>\n",
              "<style scoped>\n",
              "    .dataframe tbody tr th:only-of-type {\n",
              "        vertical-align: middle;\n",
              "    }\n",
              "\n",
              "    .dataframe tbody tr th {\n",
              "        vertical-align: top;\n",
              "    }\n",
              "\n",
              "    .dataframe thead th {\n",
              "        text-align: right;\n",
              "    }\n",
              "</style>\n",
              "<table border=\"1\" class=\"dataframe\">\n",
              "  <thead>\n",
              "    <tr style=\"text-align: right;\">\n",
              "      <th></th>\n",
              "      <th>true</th>\n",
              "      <th>fake</th>\n",
              "      <th>fake/true ratio</th>\n",
              "    </tr>\n",
              "    <tr>\n",
              "      <th>token</th>\n",
              "      <th></th>\n",
              "      <th></th>\n",
              "      <th></th>\n",
              "    </tr>\n",
              "  </thead>\n",
              "  <tbody>\n",
              "    <tr>\n",
              "      <th>minister</th>\n",
              "      <td>0.049143</td>\n",
              "      <td>0.004579</td>\n",
              "      <td>0.093168</td>\n",
              "    </tr>\n",
              "    <tr>\n",
              "      <th>wednesday</th>\n",
              "      <td>0.039187</td>\n",
              "      <td>0.008761</td>\n",
              "      <td>0.223561</td>\n",
              "    </tr>\n",
              "    <tr>\n",
              "      <th>thursday</th>\n",
              "      <td>0.037885</td>\n",
              "      <td>0.009197</td>\n",
              "      <td>0.242759</td>\n",
              "    </tr>\n",
              "    <tr>\n",
              "      <th>tuesday</th>\n",
              "      <td>0.036921</td>\n",
              "      <td>0.009034</td>\n",
              "      <td>0.244693</td>\n",
              "    </tr>\n",
              "    <tr>\n",
              "      <th>monday</th>\n",
              "      <td>0.034633</td>\n",
              "      <td>0.008822</td>\n",
              "      <td>0.254719</td>\n",
              "    </tr>\n",
              "    <tr>\n",
              "      <th>friday</th>\n",
              "      <td>0.036306</td>\n",
              "      <td>0.009464</td>\n",
              "      <td>0.260674</td>\n",
              "    </tr>\n",
              "    <tr>\n",
              "      <th>foreign</th>\n",
              "      <td>0.034608</td>\n",
              "      <td>0.010393</td>\n",
              "      <td>0.300297</td>\n",
              "    </tr>\n",
              "    <tr>\n",
              "      <th>international</th>\n",
              "      <td>0.023358</td>\n",
              "      <td>0.007386</td>\n",
              "      <td>0.316202</td>\n",
              "    </tr>\n",
              "    <tr>\n",
              "      <th>military</th>\n",
              "      <td>0.036022</td>\n",
              "      <td>0.011809</td>\n",
              "      <td>0.327837</td>\n",
              "    </tr>\n",
              "    <tr>\n",
              "      <th>senate</th>\n",
              "      <td>0.034323</td>\n",
              "      <td>0.011941</td>\n",
              "      <td>0.347889</td>\n",
              "    </tr>\n",
              "  </tbody>\n",
              "</table>\n",
              "</div>"
            ],
            "text/plain": [
              "                   true      fake  fake/true ratio\n",
              "token                                             \n",
              "minister       0.049143  0.004579         0.093168\n",
              "wednesday      0.039187  0.008761         0.223561\n",
              "thursday       0.037885  0.009197         0.242759\n",
              "tuesday        0.036921  0.009034         0.244693\n",
              "monday         0.034633  0.008822         0.254719\n",
              "friday         0.036306  0.009464         0.260674\n",
              "foreign        0.034608  0.010393         0.300297\n",
              "international  0.023358  0.007386         0.316202\n",
              "military       0.036022  0.011809         0.327837\n",
              "senate         0.034323  0.011941         0.347889"
            ]
          },
          "metadata": {
            "tags": []
          },
          "execution_count": 60
        }
      ]
    },
    {
      "cell_type": "markdown",
      "metadata": {
        "id": "1KrfWuvMs8dP",
        "colab_type": "text"
      },
      "source": [
        "# Support Vector Machines"
      ]
    },
    {
      "cell_type": "code",
      "metadata": {
        "id": "ycDtArtw1bhG",
        "colab_type": "code",
        "outputId": "9683fc1c-8197-4867-e69d-a5931db7bc27",
        "colab": {
          "base_uri": "https://localhost:8080/",
          "height": 86
        }
      },
      "source": [
        "from sklearn.svm import SVC\n",
        "\n",
        "#Linear kernel fits decently well, decided not to use another kernel because of parsimony \n",
        "#and because linear has the lowest risk of overfitting\n",
        "svc = SVC(kernel='linear', random_state=1) \n",
        "svc.fit(x_train, np.ravel(y_train))"
      ],
      "execution_count": 61,
      "outputs": [
        {
          "output_type": "execute_result",
          "data": {
            "text/plain": [
              "SVC(C=1.0, break_ties=False, cache_size=200, class_weight=None, coef0=0.0,\n",
              "    decision_function_shape='ovr', degree=3, gamma='scale', kernel='linear',\n",
              "    max_iter=-1, probability=False, random_state=1, shrinking=True, tol=0.001,\n",
              "    verbose=False)"
            ]
          },
          "metadata": {
            "tags": []
          },
          "execution_count": 61
        }
      ]
    },
    {
      "cell_type": "code",
      "metadata": {
        "id": "i470dNxu1ZTM",
        "colab_type": "code",
        "colab": {}
      },
      "source": [
        "y_pred_svm = svc.predict(x_test)"
      ],
      "execution_count": 0,
      "outputs": []
    },
    {
      "cell_type": "code",
      "metadata": {
        "id": "1hIwOCcr6y_9",
        "colab_type": "code",
        "outputId": "9c492288-38f9-454b-da52-50d02b19e778",
        "colab": {
          "base_uri": "https://localhost:8080/",
          "height": 207
        }
      },
      "source": [
        "print(\"Accuracy is:\", metrics.accuracy_score(y_test, y_pred_svm))\n",
        "print(\"Mean Squared Error is:\", np.sqrt(mean_squared_error(y_test, y_pred_svm)))\n",
        "print(metrics.classification_report(y_test, y_pred_svm))"
      ],
      "execution_count": 63,
      "outputs": [
        {
          "output_type": "stream",
          "text": [
            "Accuracy is: 0.8942297398565464\n",
            "Mean Squared Error is: 0.3252234003626639\n",
            "              precision    recall  f1-score   support\n",
            "\n",
            "           0       0.89      0.89      0.89      4522\n",
            "           1       0.89      0.90      0.90      4819\n",
            "\n",
            "    accuracy                           0.89      9341\n",
            "   macro avg       0.89      0.89      0.89      9341\n",
            "weighted avg       0.89      0.89      0.89      9341\n",
            "\n"
          ],
          "name": "stdout"
        }
      ]
    },
    {
      "cell_type": "code",
      "metadata": {
        "id": "cAVX3Kdo1jVo",
        "colab_type": "code",
        "outputId": "8ad93fef-a5c5-4b47-fc86-ccc83f926cd2",
        "colab": {
          "base_uri": "https://localhost:8080/",
          "height": 52
        }
      },
      "source": [
        "svm_cm = metrics.confusion_matrix(y_test, y_pred_svm)\n",
        "print(svm_cm)"
      ],
      "execution_count": 67,
      "outputs": [
        {
          "output_type": "stream",
          "text": [
            "[[4005  517]\n",
            " [ 471 4348]]\n"
          ],
          "name": "stdout"
        }
      ]
    },
    {
      "cell_type": "code",
      "metadata": {
        "id": "N8sIAX7E66E_",
        "colab_type": "code",
        "outputId": "f16dc21e-b087-484a-cd40-21ea81c3ed08",
        "colab": {
          "base_uri": "https://localhost:8080/",
          "height": 265
        }
      },
      "source": [
        "labels =  np.array([['4005','517'],['471','4348']])\n",
        "sns.heatmap(svm_cm, annot=labels, fmt = '')\n",
        "plt.show()"
      ],
      "execution_count": 76,
      "outputs": [
        {
          "output_type": "display_data",
          "data": {
            "image/png": "[encoded data removed]",
            "text/plain": [
              "<Figure size 432x288 with 2 Axes>"
            ]
          },
          "metadata": {
            "tags": [],
            "needs_background": "light"
          }
        }
      ]
    },
    {
      "cell_type": "code",
      "metadata": {
        "id": "h55e3NG36sGa",
        "colab_type": "code",
        "outputId": "3a2a751a-4ca7-47bb-df76-c1839df1d2ea",
        "colab": {
          "base_uri": "https://localhost:8080/",
          "height": 35
        }
      },
      "source": [
        "print (metrics.roc_auc_score(y_test, y_pred_svm))"
      ],
      "execution_count": 70,
      "outputs": [
        {
          "output_type": "stream",
          "text": [
            "0.8939659687773932\n"
          ],
          "name": "stdout"
        }
      ]
    },
    {
      "cell_type": "markdown",
      "metadata": {
        "id": "QWx3UslRs5_Z",
        "colab_type": "text"
      },
      "source": [
        "# Random Forest"
      ]
    },
    {
      "cell_type": "code",
      "metadata": {
        "id": "SFzTAw2nvSF4",
        "colab_type": "code",
        "outputId": "bcd4a66a-37c2-4db6-cbd6-db85a83ada61",
        "colab": {
          "base_uri": "https://localhost:8080/",
          "height": 69
        }
      },
      "source": [
        "#Tried depths greater and less than 60, 60 was the best. \n",
        "#Tried estimators greater and less than 200 but 200 was the best\n",
        "\n",
        "from sklearn.ensemble import RandomForestClassifier\n",
        "from sklearn.model_selection import GridSearchCV\n",
        "\n",
        "rf = RandomForestClassifier(random_state = 1)\n",
        "\n",
        "param_grid = {\n",
        "    'n_estimators': [200],\n",
        "    'max_depth': [50, 60, 70]\n",
        "    }\n",
        "\n",
        "%time grid_search_rf = GridSearchCV(estimator = rf, param_grid = param_grid, cv = 5)\n",
        "grid_search_rf.fit(x_train, np.ravel(y_train))\n",
        "grid_search_rf.best_params_"
      ],
      "execution_count": 27,
      "outputs": [
        {
          "output_type": "stream",
          "text": [
            "CPU times: user 224 µs, sys: 6.99 ms, total: 7.22 ms\n",
            "Wall time: 7.14 ms\n"
          ],
          "name": "stdout"
        },
        {
          "output_type": "execute_result",
          "data": {
            "text/plain": [
              "{'max_depth': 50, 'n_estimators': 200}"
            ]
          },
          "metadata": {
            "tags": []
          },
          "execution_count": 27
        }
      ]
    },
    {
      "cell_type": "code",
      "metadata": {
        "id": "8ApxMOK9HYmr",
        "colab_type": "code",
        "colab": {}
      },
      "source": [
        "y_pred_rf = grid_search_rf.predict(x_test)"
      ],
      "execution_count": 0,
      "outputs": []
    },
    {
      "cell_type": "code",
      "metadata": {
        "id": "irFVTe9xw1y1",
        "colab_type": "code",
        "outputId": "c379514f-fd76-4f42-e36f-1a23cd2746f6",
        "colab": {
          "base_uri": "https://localhost:8080/",
          "height": 52
        }
      },
      "source": [
        "print(\"Accuracy is:\", metrics.accuracy_score(y_test, y_pred_rf))\n",
        "print(\"Mean Squared Error is:\", np.sqrt(mean_squared_error(y_test, y_pred_rf)))"
      ],
      "execution_count": 29,
      "outputs": [
        {
          "output_type": "stream",
          "text": [
            "Accuracy is: 0.9283802590729044\n",
            "Mean Squared Error is: 0.2676186483171447\n"
          ],
          "name": "stdout"
        }
      ]
    },
    {
      "cell_type": "code",
      "metadata": {
        "id": "R9-6FRDhw8gW",
        "colab_type": "code",
        "outputId": "eb7710c6-9486-4f72-c63c-7447afd26cac",
        "colab": {
          "base_uri": "https://localhost:8080/",
          "height": 52
        }
      },
      "source": [
        "rf_cm = metrics.confusion_matrix(y_test, y_pred_rf)\n",
        "print(rf_cm)"
      ],
      "execution_count": 30,
      "outputs": [
        {
          "output_type": "stream",
          "text": [
            "[[4097  425]\n",
            " [ 244 4575]]\n"
          ],
          "name": "stdout"
        }
      ]
    },
    {
      "cell_type": "code",
      "metadata": {
        "id": "XYFr1uXmkq8A",
        "colab_type": "code",
        "colab": {
          "base_uri": "https://localhost:8080/",
          "height": 173
        },
        "outputId": "9c1926d7-f6dc-452e-9eaf-eeb1ff0dfcaa"
      },
      "source": [
        "print(metrics.classification_report(y_test, y_pred_rf))"
      ],
      "execution_count": 31,
      "outputs": [
        {
          "output_type": "stream",
          "text": [
            "              precision    recall  f1-score   support\n",
            "\n",
            "           0       0.94      0.91      0.92      4522\n",
            "           1       0.92      0.95      0.93      4819\n",
            "\n",
            "    accuracy                           0.93      9341\n",
            "   macro avg       0.93      0.93      0.93      9341\n",
            "weighted avg       0.93      0.93      0.93      9341\n",
            "\n"
          ],
          "name": "stdout"
        }
      ]
    },
    {
      "cell_type": "code",
      "metadata": {
        "id": "ieZMUfdTC0Og",
        "colab_type": "code",
        "outputId": "18e38c72-e58c-4a5f-c115-a4ac967d19d7",
        "colab": {
          "base_uri": "https://localhost:8080/",
          "height": 266
        }
      },
      "source": [
        "labels = np.array([['4097','425'],['244','4575']])\n",
        "sns.heatmap(rf_cm, annot=labels, fmt = '')\n",
        "plt.show()"
      ],
      "execution_count": 72,
      "outputs": [
        {
          "output_type": "display_data",
          "data": {
            "image/png": "[encoded data removed]",
            "text/plain": [
              "<Figure size 432x288 with 2 Axes>"
            ]
          },
          "metadata": {
            "tags": [],
            "needs_background": "light"
          }
        }
      ]
    },
    {
      "cell_type": "code",
      "metadata": {
        "id": "5vOI13Gy5rzG",
        "colab_type": "code",
        "colab": {}
      },
      "source": [
        "# Calculate predicted probabilities for test data \n",
        "y_pred_prob_rf = grid_search_rf.predict_proba(x_test)[:, 1]"
      ],
      "execution_count": 0,
      "outputs": []
    },
    {
      "cell_type": "code",
      "metadata": {
        "id": "mI7wpYf_5wSE",
        "colab_type": "code",
        "outputId": "18829a89-00ff-4564-90a2-00db7d25f187",
        "colab": {
          "base_uri": "https://localhost:8080/",
          "height": 35
        }
      },
      "source": [
        "metrics.roc_auc_score(y_test, y_pred_prob_rf)"
      ],
      "execution_count": 73,
      "outputs": [
        {
          "output_type": "execute_result",
          "data": {
            "text/plain": [
              "0.9786879234388352"
            ]
          },
          "metadata": {
            "tags": []
          },
          "execution_count": 73
        }
      ]
    },
    {
      "cell_type": "code",
      "metadata": {
        "id": "i4eujoJV6VQf",
        "colab_type": "code",
        "colab": {
          "base_uri": "https://localhost:8080/",
          "height": 282
        },
        "outputId": "5c226c59-de41-4b90-9dbc-12ba6f6e881d"
      },
      "source": [
        "feature_importances = pd.Series(grid_search_rf.best_estimator_.feature_importances_, index=x_train.columns)\n",
        "feature_importances.nlargest(10).plot(kind='barh')"
      ],
      "execution_count": 37,
      "outputs": [
        {
          "output_type": "execute_result",
          "data": {
            "text/plain": [
              "<matplotlib.axes._subplots.AxesSubplot at 0x7f8b887b6cc0>"
            ]
          },
          "metadata": {
            "tags": []
          },
          "execution_count": 37
        },
        {
          "output_type": "display_data",
          "data": {
            "image/png": "[encoded data removed]",
            "text/plain": [
              "<Figure size 432x288 with 1 Axes>"
            ]
          },
          "metadata": {
            "tags": [],
            "needs_background": "light"
          }
        }
      ]
    },
    {
      "cell_type": "markdown",
      "metadata": {
        "id": "CN3og0p2tDah",
        "colab_type": "text"
      },
      "source": [
        "# Neural Network"
      ]
    },
    {
      "cell_type": "markdown",
      "metadata": {
        "id": "GE1WUXj7jtlu",
        "colab_type": "text"
      },
      "source": [
        "BERT can be used in two ways: 1) to produce a vector representation of each word as the output or 2) fine-tune the original model and train it on data with a classification as the output.\n",
        "\n",
        "I use the basic bert-base-uncased model. The maximum number of tokens allowed for BERT is 512, so articles are truncated. This could pose a possible issue."
      ]
    },
    {
      "cell_type": "code",
      "metadata": {
        "id": "fNRHGMe5vygb",
        "colab_type": "code",
        "colab": {}
      },
      "source": [
        "import sklearn.model_selection as ms\n",
        "\n",
        "#Create new train-test set\n",
        "X = pd.concat([true[\"text\"], fake[\"text\"]])\n",
        "true[\"label\"] = [0 for x in true[\"label\"]]\n",
        "fake[\"label\"] = [1 for x in fake[\"label\"]]\n",
        "y = pd.concat([true[\"label\"], fake[\"label\"]])\n",
        "\n",
        "X_train, X_test, y_train, y_test = ms.train_test_split(X, y, test_size = 0.2, random_state=1)\n",
        "train_data = pd.concat([X_train, y_train],axis = 1).reset_index(drop=True)\n",
        "test_data = pd.concat([X_test, y_test],axis = 1).reset_index(drop=True)"
      ],
      "execution_count": 0,
      "outputs": []
    },
    {
      "cell_type": "code",
      "metadata": {
        "id": "Ed0WqarkjE95",
        "colab_type": "code",
        "colab": {}
      },
      "source": [
        "X = pd.DataFrame(X)\n",
        "articles = X[\"text\"].tolist()\n",
        "y = pd.DataFrame(y)\n",
        "labels = y[\"label\"].tolist()"
      ],
      "execution_count": 0,
      "outputs": []
    },
    {
      "cell_type": "code",
      "metadata": {
        "id": "_SECJbbClVhy",
        "colab_type": "code",
        "outputId": "3feed53d-18e2-4612-b44b-6e92c09c12c8",
        "colab": {
          "base_uri": "https://localhost:8080/",
          "height": 66,
          "referenced_widgets": [
            "74b38c71a0bf429b9410639ad163f05c",
            "527409c0cfc649f8a7c92e763144b08c",
            "26b137ad3f174023a302bddf59b81900",
            "4146c4dd98fe415cb9026492d1ff22e2",
            "0ab27068e3434e97a119812517ac3c0b",
            "6232b8b4f2d047218bd49978714a12be",
            "ab590566b5fa4726b27579b9049b17d6",
            "2a83c1ae880b4db1964b74643c778851"
          ]
        }
      },
      "source": [
        "#Create new tokenizer because it's best to tokenize with the same tokenizer \n",
        "#that BERT was trained on instead of self-defined one \n",
        "from transformers import BertTokenizer\n",
        "tokenizer = BertTokenizer.from_pretrained('bert-base-uncased', do_lower_case=True)"
      ],
      "execution_count": 0,
      "outputs": [
        {
          "output_type": "display_data",
          "data": {
            "application/vnd.jupyter.widget-view+json": {
              "model_id": "74b38c71a0bf429b9410639ad163f05c",
              "version_minor": 0,
              "version_major": 2
            },
            "text/plain": [
              "HBox(children=(IntProgress(value=0, description='Downloading', max=231508, style=ProgressStyle(description_wid…"
            ]
          },
          "metadata": {
            "tags": []
          }
        },
        {
          "output_type": "stream",
          "text": [
            "\n"
          ],
          "name": "stdout"
        }
      ]
    },
    {
      "cell_type": "markdown",
      "metadata": {
        "id": "MJDsBDwkl-1x",
        "colab_type": "text"
      },
      "source": [
        "Note: attention_masks adds 1 to the scores for positions that are taken up by real tokens and adds 0 to the positions outside current sequence"
      ]
    },
    {
      "cell_type": "code",
      "metadata": {
        "id": "XtG0vtCYjAv5",
        "colab_type": "code",
        "colab": {}
      },
      "source": [
        "# Tokenize all of the articles and map the tokens to thier word IDs.\n",
        "input_ids = []\n",
        "attention_masks = []\n",
        "\n",
        "for article in articles:\n",
        "    encoded_dict = tokenizer.encode_plus(\n",
        "                        article,                      #Article to encode\n",
        "                        add_special_tokens = True, #Add [CLS] to start, [SEP] to end\n",
        "                        max_length = 64,           #Pad & truncate all sentences\n",
        "                        pad_to_max_length = True,\n",
        "                        return_attention_mask = True,   #Create masks\n",
        "                        return_tensors = 'pt',     # Return pytorch tensors\n",
        "                   )\n",
        "    \n",
        "    #Add the encoded sentence to the list    \n",
        "    input_ids.append(encoded_dict['input_ids'])\n",
        "    \n",
        "    # Add attention mask (simply differentiates padding from non-padding)\n",
        "    attention_masks.append(encoded_dict['attention_mask'])\n",
        "\n",
        "# Convert the lists into tensors\n",
        "input_ids = torch.cat(input_ids, dim=0) #encoded sentence\n",
        "attention_masks = torch.cat(attention_masks, dim=0) #mask\n",
        "labels = torch.tensor(labels) #labels (fake/true)"
      ],
      "execution_count": 0,
      "outputs": []
    },
    {
      "cell_type": "code",
      "metadata": {
        "id": "W4LQN86bmUgd",
        "colab_type": "code",
        "outputId": "877e8c37-a593-4c30-9b58-2a6419def766",
        "colab": {
          "base_uri": "https://localhost:8080/",
          "height": 69
        }
      },
      "source": [
        "from torch.utils.data import TensorDataset, random_split\n",
        "\n",
        "# Combine the training inputs into a TensorDataset\n",
        "dataset = TensorDataset(input_ids, attention_masks, labels)\n",
        "\n",
        "# Create a 70-10-20 train-validation-test split\n",
        "\n",
        "# Calculate the number of samples to include in each set.\n",
        "train_size = int(0.7 * len(dataset))\n",
        "val_size = int(0.1 * len(dataset)) + 1 #add 1 because int() causes 1 row to be left out\n",
        "test_size = int(0.2 * len(dataset)) \n",
        "\n",
        "train_dataset, val_dataset, test_dataset = random_split(dataset, [train_size, val_size, test_size])\n",
        "\n",
        "print('{:>5,} training samples'.format(train_size))\n",
        "print('{:>5,} validation samples'.format(val_size))\n",
        "print('{:>5,} test samples'.format(test_size))"
      ],
      "execution_count": 0,
      "outputs": [
        {
          "output_type": "stream",
          "text": [
            "32,692 training samples\n",
            "4,671 validation samples\n",
            "9,340 test samples\n"
          ],
          "name": "stdout"
        }
      ]
    },
    {
      "cell_type": "code",
      "metadata": {
        "id": "Y8L4W_Smmst0",
        "colab_type": "code",
        "colab": {}
      },
      "source": [
        "from torch.utils.data import DataLoader, RandomSampler, SequentialSampler\n",
        "\n",
        "#BERT developers recommend 16 or 32 batch_size\n",
        "batch_size = 16\n",
        "\n",
        "train_dataloader = DataLoader(\n",
        "            train_dataset,  \n",
        "            sampler = RandomSampler(train_dataset), # Select batches randomly\n",
        "            batch_size = batch_size)\n",
        "\n",
        "validation_dataloader = DataLoader(\n",
        "            val_dataset, \n",
        "            sampler = SequentialSampler(val_dataset), # Pull out batches sequentially, since order doesn't matter here\n",
        "            batch_size = batch_size)\n",
        "\n",
        "test_dataloader = DataLoader(\n",
        "            test_dataset, \n",
        "            sampler = SequentialSampler(test_dataset), # Pull out batches sequentially, since order doesn't matter here\n",
        "            batch_size = batch_size)"
      ],
      "execution_count": 0,
      "outputs": []
    },
    {
      "cell_type": "code",
      "metadata": {
        "id": "42qLMvZamyRa",
        "colab_type": "code",
        "colab": {}
      },
      "source": [
        "from transformers import BertForSequenceClassification, AdamW, BertConfig\n",
        "\n",
        "# Load BertForSequenceClassification, the pretrained BERT model with a single linear classification layer  \n",
        "# Don't output all layers due to memory limits\n",
        "model = BertForSequenceClassification.from_pretrained(\n",
        "    \"bert-base-uncased\", # Use the 12-layer BERT model, with an uncased vocab\n",
        "    num_labels = 2, #binary classification  \n",
        "    output_attentions = False, \n",
        "    output_hidden_states = False)\n",
        "\n",
        "#run model on the GPU\n",
        "model.cuda()"
      ],
      "execution_count": 0,
      "outputs": []
    },
    {
      "cell_type": "code",
      "metadata": {
        "id": "VkZeFvllm8dA",
        "colab_type": "code",
        "colab": {}
      },
      "source": [
        "#Use Adam optimizer\n",
        "optimizer = AdamW(model.parameters(),\n",
        "                  lr = 0.00002,\n",
        "                  eps = 1e-8) # default is 1e-8"
      ],
      "execution_count": 0,
      "outputs": []
    },
    {
      "cell_type": "code",
      "metadata": {
        "id": "Po1WlwAkm_rA",
        "colab_type": "code",
        "colab": {}
      },
      "source": [
        "from transformers import get_linear_schedule_with_warmup\n",
        "\n",
        "# BERT authors recommend between 2 and 4 epochs\n",
        "epochs = 4\n",
        "\n",
        "# number of batches x number of epochs\n",
        "total_steps = len(train_dataloader) * epochs\n",
        "\n",
        "# Create the learning rate scheduler to reduce the learning rate as training epochs increase\n",
        "scheduler = get_linear_schedule_with_warmup(optimizer, \n",
        "                                            num_warmup_steps = 0, #default\n",
        "                                            num_training_steps = total_steps)"
      ],
      "execution_count": 0,
      "outputs": []
    },
    {
      "cell_type": "code",
      "metadata": {
        "id": "PrTJNJqzm_fk",
        "colab_type": "code",
        "colab": {}
      },
      "source": [
        "def accuracy(preds, labels):\n",
        "    pred_flat = np.argmax(preds, axis=1).flatten()\n",
        "    labels_flat = labels.flatten()\n",
        "    return metrics.accuracy_score(pred_flat, labels_flat)"
      ],
      "execution_count": 0,
      "outputs": []
    },
    {
      "cell_type": "code",
      "metadata": {
        "id": "VLE7gsDP8o2d",
        "colab_type": "code",
        "colab": {}
      },
      "source": [
        "import time\n",
        "import datetime\n",
        "\n",
        "#Takes a time in seconds and returns a string hh:mm:ss\n",
        "def format_time(elapsed):\n",
        "    \n",
        "    # Round to the nearest second.\n",
        "    elapsed_rounded = int(round((elapsed)))\n",
        "    \n",
        "    # Format as hh:mm:ss\n",
        "    return str(datetime.timedelta(seconds=elapsed_rounded))\n"
      ],
      "execution_count": 0,
      "outputs": []
    },
    {
      "cell_type": "code",
      "metadata": {
        "id": "Tp1DuKV08kOZ",
        "colab_type": "code",
        "outputId": "a3b520c8-a6b9-4f10-bbb7-588d7249512f",
        "colab": {
          "base_uri": "https://localhost:8080/",
          "height": 1000
        }
      },
      "source": [
        "import random\n",
        "\n",
        "#Use a seed to ensure reproductibility\n",
        "seed_val = 22\n",
        "\n",
        "random.seed(seed_val)\n",
        "np.random.seed(seed_val)\n",
        "torch.manual_seed(seed_val)\n",
        "torch.cuda.manual_seed_all(seed_val)\n",
        "\n",
        "training_stats = []\n",
        "\n",
        "# Measure the total training time for the whole run.\n",
        "total_t0 = time.time()\n",
        "\n",
        "\n",
        "for epoch_i in range(0, epochs):\n",
        "    \n",
        "    print(\"\")\n",
        "    print('======== Epoch {:} / {:} ========'.format(epoch_i + 1, epochs))\n",
        "\n",
        "    # Measure how long the training epoch takes\n",
        "    t0 = time.time()\n",
        "\n",
        "    # Reset the total loss for this epoch\n",
        "    total_train_loss = 0\n",
        "\n",
        "    model.train()\n",
        "\n",
        "    for step, batch in enumerate(train_dataloader):\n",
        "\n",
        "        # Progress update every 40 batches\n",
        "        if step % 40 == 0 and not step == 0:\n",
        "            # Calculate elapsed time in minutes\n",
        "            elapsed = format_time(time.time() - t0)\n",
        "            \n",
        "            # Report progress\n",
        "            print('  Batch {:>5,}  of  {:>5,}.    Elapsed: {:}.'.format(step, len(train_dataloader), elapsed))\n",
        "\n",
        "        b_input_ids = batch[0].to(device) #copy each tensor to the GPU\n",
        "        b_input_mask = batch[1].to(device) #copy each tensor to the GPU\n",
        "        b_labels = batch[2].to(device) #copy each tensor to the GPU\n",
        "\n",
        "        model.zero_grad()        \n",
        "\n",
        "        # Perform forward pass \n",
        "        # Returns the loss (because we provided labels) and the \"logits\" - the model\n",
        "        # outputs prior to activation\n",
        "        loss, logits = model(b_input_ids, \n",
        "                             token_type_ids=None, \n",
        "                             attention_mask=b_input_mask, \n",
        "                             labels=b_labels)\n",
        "\n",
        "        total_train_loss += loss.item()\n",
        "        loss.backward()\n",
        "\n",
        "        # Clip the norm of the gradients to 1.0\n",
        "        # This is to help prevent the \"exploding gradients\" problem\n",
        "        torch.nn.utils.clip_grad_norm_(model.parameters(), 1.0)\n",
        "        optimizer.step()\n",
        "        scheduler.step() # Update the learning rate\n",
        "\n",
        "    avg_train_loss = total_train_loss / len(train_dataloader)            \n",
        "    \n",
        "    # Measure how long this epoch took\n",
        "    training_time = format_time(time.time() - t0)\n",
        "\n",
        "    print(\"\")\n",
        "    print(\"  Average training loss: {0:.2f}\".format(avg_train_loss))\n",
        "    print(\"  Training epcoh took: {:}\".format(training_time))\n",
        "\n",
        "    print(\"\")\n",
        "    print(\"Running Validation...\")\n",
        "\n",
        "    t0 = time.time()\n",
        "\n",
        "    model.eval()\n",
        "\n",
        "    # Tracking variables \n",
        "    total_eval_accuracy = 0\n",
        "    total_eval_loss = 0\n",
        "    nb_eval_steps = 0\n",
        "\n",
        "    for batch in validation_dataloader:\n",
        "        \n",
        "        b_input_ids = batch[0].to(device) #copy each tensor to the GPU\n",
        "        b_input_mask = batch[1].to(device) #copy each tensor to the GPU\n",
        "        b_labels = batch[2].to(device) #copy each tensor to the GPU\n",
        "        \n",
        "        # Tell pytorch not to bother with constructing the compute graph during\n",
        "        # the forward pass, since this is only needed for backprop (training).\n",
        "        with torch.no_grad():        \n",
        "            (loss, logits) = model(b_input_ids, \n",
        "                                   token_type_ids=None, \n",
        "                                   attention_mask=b_input_mask,\n",
        "                                   labels=b_labels)         \n",
        "        total_eval_loss += loss.item()\n",
        "\n",
        "        # Move logits and labels to CPU\n",
        "        logits = logits.detach().cpu().numpy()\n",
        "        label_ids = b_labels.to('cpu').numpy()\n",
        "\n",
        "        # Calculate the accuracy for this batch of test sentences, and\n",
        "        # accumulate it over all batches.\n",
        "        total_eval_accuracy += accuracy(logits, label_ids)\n",
        "        \n",
        "    # Report the final accuracy for this validation run\n",
        "    avg_val_accuracy = total_eval_accuracy / len(validation_dataloader)\n",
        "    print(\"  Accuracy: {0:.2f}\".format(avg_val_accuracy))\n",
        "\n",
        "    # Calculate the average loss over all of the batches\n",
        "    avg_val_loss = total_eval_loss / len(validation_dataloader)\n",
        "    \n",
        "    # Measure how long the validation run took\n",
        "    validation_time = format_time(time.time() - t0)\n",
        "    \n",
        "    print(\"  Validation Loss: {0:.2f}\".format(avg_val_loss))\n",
        "    print(\"  Validation took: {:}\".format(validation_time))\n",
        "\n",
        "    # Record all statistics from this epoch.\n",
        "    training_stats.append(\n",
        "        {\n",
        "            'epoch': epoch_i + 1,\n",
        "            'Training Loss': avg_train_loss,\n",
        "            'Valid. Loss': avg_val_loss,\n",
        "            'Valid. Accur.': avg_val_accuracy,\n",
        "            'Training Time': training_time,\n",
        "            'Validation Time': validation_time\n",
        "        }\n",
        "    )\n",
        "\n",
        "print(\"\")\n",
        "print(\"Training complete!\")\n",
        "\n",
        "print(\"Total training took {:} (h:mm:ss)\".format(format_time(time.time()-total_t0)))"
      ],
      "execution_count": 0,
      "outputs": [
        {
          "output_type": "stream",
          "text": [
            "\n",
            "======== Epoch 1 / 4 ========\n",
            "Training...\n"
          ],
          "name": "stdout"
        },
        {
          "output_type": "stream",
          "text": [
            "/pytorch/torch/csrc/utils/python_arg_parser.cpp:756: UserWarning: This overload of add_ is deprecated:\n",
            "\tadd_(Number alpha, Tensor other)\n",
            "Consider using one of the following signatures instead:\n",
            "\tadd_(Tensor other, *, Number alpha)\n"
          ],
          "name": "stderr"
        },
        {
          "output_type": "stream",
          "text": [
            "  Batch    40  of  2,044.    Elapsed: 0:00:11.\n",
            "  Batch    80  of  2,044.    Elapsed: 0:00:21.\n",
            "  Batch   120  of  2,044.    Elapsed: 0:00:32.\n",
            "  Batch   160  of  2,044.    Elapsed: 0:00:42.\n",
            "  Batch   200  of  2,044.    Elapsed: 0:00:53.\n",
            "  Batch   240  of  2,044.    Elapsed: 0:01:03.\n",
            "  Batch   280  of  2,044.    Elapsed: 0:01:14.\n",
            "  Batch   320  of  2,044.    Elapsed: 0:01:24.\n",
            "  Batch   360  of  2,044.    Elapsed: 0:01:35.\n",
            "  Batch   400  of  2,044.    Elapsed: 0:01:45.\n",
            "  Batch   440  of  2,044.    Elapsed: 0:01:56.\n",
            "  Batch   480  of  2,044.    Elapsed: 0:02:06.\n",
            "  Batch   520  of  2,044.    Elapsed: 0:02:17.\n",
            "  Batch   560  of  2,044.    Elapsed: 0:02:27.\n",
            "  Batch   600  of  2,044.    Elapsed: 0:02:37.\n",
            "  Batch   640  of  2,044.    Elapsed: 0:02:48.\n",
            "  Batch   680  of  2,044.    Elapsed: 0:02:59.\n",
            "  Batch   720  of  2,044.    Elapsed: 0:03:09.\n",
            "  Batch   760  of  2,044.    Elapsed: 0:03:19.\n",
            "  Batch   800  of  2,044.    Elapsed: 0:03:30.\n",
            "  Batch   840  of  2,044.    Elapsed: 0:03:40.\n",
            "  Batch   880  of  2,044.    Elapsed: 0:03:51.\n",
            "  Batch   920  of  2,044.    Elapsed: 0:04:01.\n",
            "  Batch   960  of  2,044.    Elapsed: 0:04:12.\n",
            "  Batch 1,000  of  2,044.    Elapsed: 0:04:22.\n",
            "  Batch 1,040  of  2,044.    Elapsed: 0:04:32.\n",
            "  Batch 1,080  of  2,044.    Elapsed: 0:04:43.\n",
            "  Batch 1,120  of  2,044.    Elapsed: 0:04:53.\n",
            "  Batch 1,160  of  2,044.    Elapsed: 0:05:04.\n",
            "  Batch 1,200  of  2,044.    Elapsed: 0:05:14.\n",
            "  Batch 1,240  of  2,044.    Elapsed: 0:05:25.\n",
            "  Batch 1,280  of  2,044.    Elapsed: 0:05:35.\n",
            "  Batch 1,320  of  2,044.    Elapsed: 0:05:45.\n",
            "  Batch 1,360  of  2,044.    Elapsed: 0:05:56.\n",
            "  Batch 1,400  of  2,044.    Elapsed: 0:06:06.\n",
            "  Batch 1,440  of  2,044.    Elapsed: 0:06:17.\n",
            "  Batch 1,480  of  2,044.    Elapsed: 0:06:27.\n",
            "  Batch 1,520  of  2,044.    Elapsed: 0:06:38.\n",
            "  Batch 1,560  of  2,044.    Elapsed: 0:06:48.\n",
            "  Batch 1,600  of  2,044.    Elapsed: 0:06:58.\n",
            "  Batch 1,640  of  2,044.    Elapsed: 0:07:09.\n",
            "  Batch 1,680  of  2,044.    Elapsed: 0:07:19.\n",
            "  Batch 1,720  of  2,044.    Elapsed: 0:07:30.\n",
            "  Batch 1,760  of  2,044.    Elapsed: 0:07:40.\n",
            "  Batch 1,800  of  2,044.    Elapsed: 0:07:51.\n",
            "  Batch 1,840  of  2,044.    Elapsed: 0:08:01.\n",
            "  Batch 1,880  of  2,044.    Elapsed: 0:08:11.\n",
            "  Batch 1,920  of  2,044.    Elapsed: 0:08:22.\n",
            "  Batch 1,960  of  2,044.    Elapsed: 0:08:32.\n",
            "  Batch 2,000  of  2,044.    Elapsed: 0:08:42.\n",
            "  Batch 2,040  of  2,044.    Elapsed: 0:08:53.\n",
            "\n",
            "  Average training loss: 0.10\n",
            "  Training epcoh took: 0:08:54\n",
            "\n",
            "Running Validation...\n",
            "  Accuracy: 0.99\n",
            "  Validation Loss: 0.04\n",
            "  Validation took: 0:00:19\n",
            "\n",
            "======== Epoch 2 / 4 ========\n",
            "Training...\n",
            "  Batch    40  of  2,044.    Elapsed: 0:00:10.\n",
            "  Batch    80  of  2,044.    Elapsed: 0:00:21.\n",
            "  Batch   120  of  2,044.    Elapsed: 0:00:31.\n",
            "  Batch   160  of  2,044.    Elapsed: 0:00:41.\n",
            "  Batch   200  of  2,044.    Elapsed: 0:00:52.\n",
            "  Batch   240  of  2,044.    Elapsed: 0:01:02.\n",
            "  Batch   280  of  2,044.    Elapsed: 0:01:13.\n",
            "  Batch   320  of  2,044.    Elapsed: 0:01:23.\n",
            "  Batch   360  of  2,044.    Elapsed: 0:01:33.\n",
            "  Batch   400  of  2,044.    Elapsed: 0:01:44.\n",
            "  Batch   440  of  2,044.    Elapsed: 0:01:54.\n",
            "  Batch   480  of  2,044.    Elapsed: 0:02:04.\n",
            "  Batch   520  of  2,044.    Elapsed: 0:02:15.\n",
            "  Batch   560  of  2,044.    Elapsed: 0:02:25.\n",
            "  Batch   600  of  2,044.    Elapsed: 0:02:35.\n",
            "  Batch   640  of  2,044.    Elapsed: 0:02:46.\n",
            "  Batch   680  of  2,044.    Elapsed: 0:02:56.\n",
            "  Batch   720  of  2,044.    Elapsed: 0:03:06.\n",
            "  Batch   760  of  2,044.    Elapsed: 0:03:17.\n",
            "  Batch   800  of  2,044.    Elapsed: 0:03:27.\n",
            "  Batch   840  of  2,044.    Elapsed: 0:03:37.\n",
            "  Batch   880  of  2,044.    Elapsed: 0:03:48.\n",
            "  Batch   920  of  2,044.    Elapsed: 0:03:58.\n",
            "  Batch   960  of  2,044.    Elapsed: 0:04:09.\n",
            "  Batch 1,000  of  2,044.    Elapsed: 0:04:19.\n",
            "  Batch 1,040  of  2,044.    Elapsed: 0:04:29.\n",
            "  Batch 1,080  of  2,044.    Elapsed: 0:04:40.\n",
            "  Batch 1,120  of  2,044.    Elapsed: 0:04:50.\n",
            "  Batch 1,160  of  2,044.    Elapsed: 0:05:00.\n",
            "  Batch 1,200  of  2,044.    Elapsed: 0:05:11.\n",
            "  Batch 1,240  of  2,044.    Elapsed: 0:05:21.\n",
            "  Batch 1,280  of  2,044.    Elapsed: 0:05:31.\n",
            "  Batch 1,320  of  2,044.    Elapsed: 0:05:42.\n",
            "  Batch 1,360  of  2,044.    Elapsed: 0:05:52.\n",
            "  Batch 1,400  of  2,044.    Elapsed: 0:06:02.\n",
            "  Batch 1,440  of  2,044.    Elapsed: 0:06:13.\n",
            "  Batch 1,480  of  2,044.    Elapsed: 0:06:23.\n",
            "  Batch 1,520  of  2,044.    Elapsed: 0:06:33.\n",
            "  Batch 1,560  of  2,044.    Elapsed: 0:06:44.\n",
            "  Batch 1,600  of  2,044.    Elapsed: 0:06:54.\n",
            "  Batch 1,640  of  2,044.    Elapsed: 0:07:05.\n",
            "  Batch 1,680  of  2,044.    Elapsed: 0:07:15.\n",
            "  Batch 1,720  of  2,044.    Elapsed: 0:07:25.\n",
            "  Batch 1,760  of  2,044.    Elapsed: 0:07:36.\n",
            "  Batch 1,800  of  2,044.    Elapsed: 0:07:46.\n",
            "  Batch 1,840  of  2,044.    Elapsed: 0:07:56.\n",
            "  Batch 1,880  of  2,044.    Elapsed: 0:08:07.\n",
            "  Batch 1,920  of  2,044.    Elapsed: 0:08:17.\n",
            "  Batch 1,960  of  2,044.    Elapsed: 0:08:27.\n",
            "  Batch 2,000  of  2,044.    Elapsed: 0:08:38.\n",
            "  Batch 2,040  of  2,044.    Elapsed: 0:08:48.\n",
            "\n",
            "  Average training loss: 0.02\n",
            "  Training epcoh took: 0:08:49\n",
            "\n",
            "Running Validation...\n",
            "  Accuracy: 0.99\n",
            "  Validation Loss: 0.04\n",
            "  Validation took: 0:00:19\n",
            "\n",
            "======== Epoch 3 / 4 ========\n",
            "Training...\n",
            "  Batch    40  of  2,044.    Elapsed: 0:00:10.\n",
            "  Batch    80  of  2,044.    Elapsed: 0:00:21.\n",
            "  Batch   120  of  2,044.    Elapsed: 0:00:31.\n",
            "  Batch   160  of  2,044.    Elapsed: 0:00:41.\n",
            "  Batch   200  of  2,044.    Elapsed: 0:00:52.\n",
            "  Batch   240  of  2,044.    Elapsed: 0:01:02.\n",
            "  Batch   280  of  2,044.    Elapsed: 0:01:12.\n",
            "  Batch   320  of  2,044.    Elapsed: 0:01:23.\n",
            "  Batch   360  of  2,044.    Elapsed: 0:01:33.\n",
            "  Batch   400  of  2,044.    Elapsed: 0:01:43.\n",
            "  Batch   440  of  2,044.    Elapsed: 0:01:54.\n",
            "  Batch   480  of  2,044.    Elapsed: 0:02:04.\n",
            "  Batch   520  of  2,044.    Elapsed: 0:02:14.\n",
            "  Batch   560  of  2,044.    Elapsed: 0:02:25.\n",
            "  Batch   600  of  2,044.    Elapsed: 0:02:35.\n",
            "  Batch   640  of  2,044.    Elapsed: 0:02:45.\n",
            "  Batch   680  of  2,044.    Elapsed: 0:02:56.\n",
            "  Batch   720  of  2,044.    Elapsed: 0:03:06.\n",
            "  Batch   760  of  2,044.    Elapsed: 0:03:16.\n",
            "  Batch   800  of  2,044.    Elapsed: 0:03:27.\n",
            "  Batch   840  of  2,044.    Elapsed: 0:03:37.\n",
            "  Batch   880  of  2,044.    Elapsed: 0:03:47.\n",
            "  Batch   920  of  2,044.    Elapsed: 0:03:58.\n",
            "  Batch   960  of  2,044.    Elapsed: 0:04:08.\n",
            "  Batch 1,000  of  2,044.    Elapsed: 0:04:18.\n",
            "  Batch 1,040  of  2,044.    Elapsed: 0:04:29.\n",
            "  Batch 1,080  of  2,044.    Elapsed: 0:04:39.\n",
            "  Batch 1,120  of  2,044.    Elapsed: 0:04:49.\n",
            "  Batch 1,160  of  2,044.    Elapsed: 0:05:00.\n",
            "  Batch 1,200  of  2,044.    Elapsed: 0:05:10.\n",
            "  Batch 1,240  of  2,044.    Elapsed: 0:05:20.\n",
            "  Batch 1,280  of  2,044.    Elapsed: 0:05:31.\n",
            "  Batch 1,320  of  2,044.    Elapsed: 0:05:41.\n",
            "  Batch 1,360  of  2,044.    Elapsed: 0:05:51.\n",
            "  Batch 1,400  of  2,044.    Elapsed: 0:06:02.\n",
            "  Batch 1,440  of  2,044.    Elapsed: 0:06:12.\n",
            "  Batch 1,480  of  2,044.    Elapsed: 0:06:22.\n",
            "  Batch 1,520  of  2,044.    Elapsed: 0:06:33.\n",
            "  Batch 1,560  of  2,044.    Elapsed: 0:06:43.\n",
            "  Batch 1,600  of  2,044.    Elapsed: 0:06:53.\n",
            "  Batch 1,640  of  2,044.    Elapsed: 0:07:04.\n",
            "  Batch 1,680  of  2,044.    Elapsed: 0:07:14.\n",
            "  Batch 1,720  of  2,044.    Elapsed: 0:07:24.\n",
            "  Batch 1,760  of  2,044.    Elapsed: 0:07:35.\n",
            "  Batch 1,800  of  2,044.    Elapsed: 0:07:45.\n",
            "  Batch 1,840  of  2,044.    Elapsed: 0:07:56.\n",
            "  Batch 1,880  of  2,044.    Elapsed: 0:08:06.\n",
            "  Batch 1,920  of  2,044.    Elapsed: 0:08:16.\n",
            "  Batch 1,960  of  2,044.    Elapsed: 0:08:27.\n",
            "  Batch 2,000  of  2,044.    Elapsed: 0:08:37.\n",
            "  Batch 2,040  of  2,044.    Elapsed: 0:08:47.\n",
            "\n",
            "  Average training loss: 0.01\n",
            "  Training epcoh took: 0:08:48\n",
            "\n",
            "Running Validation...\n",
            "  Accuracy: 0.99\n",
            "  Validation Loss: 0.06\n",
            "  Validation took: 0:00:19\n",
            "\n",
            "======== Epoch 4 / 4 ========\n",
            "Training...\n",
            "  Batch    40  of  2,044.    Elapsed: 0:00:10.\n",
            "  Batch    80  of  2,044.    Elapsed: 0:00:21.\n",
            "  Batch   120  of  2,044.    Elapsed: 0:00:31.\n",
            "  Batch   160  of  2,044.    Elapsed: 0:00:41.\n",
            "  Batch   200  of  2,044.    Elapsed: 0:00:52.\n",
            "  Batch   240  of  2,044.    Elapsed: 0:01:02.\n",
            "  Batch   280  of  2,044.    Elapsed: 0:01:12.\n",
            "  Batch   320  of  2,044.    Elapsed: 0:01:23.\n",
            "  Batch   360  of  2,044.    Elapsed: 0:01:33.\n",
            "  Batch   400  of  2,044.    Elapsed: 0:01:43.\n",
            "  Batch   440  of  2,044.    Elapsed: 0:01:54.\n",
            "  Batch   480  of  2,044.    Elapsed: 0:02:04.\n",
            "  Batch   520  of  2,044.    Elapsed: 0:02:14.\n",
            "  Batch   560  of  2,044.    Elapsed: 0:02:25.\n",
            "  Batch   600  of  2,044.    Elapsed: 0:02:35.\n",
            "  Batch   640  of  2,044.    Elapsed: 0:02:45.\n",
            "  Batch   680  of  2,044.    Elapsed: 0:02:56.\n",
            "  Batch   720  of  2,044.    Elapsed: 0:03:06.\n",
            "  Batch   760  of  2,044.    Elapsed: 0:03:16.\n",
            "  Batch   800  of  2,044.    Elapsed: 0:03:27.\n",
            "  Batch   840  of  2,044.    Elapsed: 0:03:37.\n",
            "  Batch   880  of  2,044.    Elapsed: 0:03:47.\n",
            "  Batch   920  of  2,044.    Elapsed: 0:03:58.\n",
            "  Batch   960  of  2,044.    Elapsed: 0:04:08.\n",
            "  Batch 1,000  of  2,044.    Elapsed: 0:04:18.\n",
            "  Batch 1,040  of  2,044.    Elapsed: 0:04:29.\n",
            "  Batch 1,080  of  2,044.    Elapsed: 0:04:39.\n",
            "  Batch 1,120  of  2,044.    Elapsed: 0:04:49.\n",
            "  Batch 1,160  of  2,044.    Elapsed: 0:05:00.\n",
            "  Batch 1,200  of  2,044.    Elapsed: 0:05:10.\n",
            "  Batch 1,240  of  2,044.    Elapsed: 0:05:20.\n",
            "  Batch 1,280  of  2,044.    Elapsed: 0:05:31.\n",
            "  Batch 1,320  of  2,044.    Elapsed: 0:05:41.\n",
            "  Batch 1,360  of  2,044.    Elapsed: 0:05:51.\n",
            "  Batch 1,400  of  2,044.    Elapsed: 0:06:02.\n",
            "  Batch 1,440  of  2,044.    Elapsed: 0:06:12.\n",
            "  Batch 1,480  of  2,044.    Elapsed: 0:06:22.\n",
            "  Batch 1,520  of  2,044.    Elapsed: 0:06:33.\n",
            "  Batch 1,560  of  2,044.    Elapsed: 0:06:43.\n",
            "  Batch 1,600  of  2,044.    Elapsed: 0:06:53.\n",
            "  Batch 1,640  of  2,044.    Elapsed: 0:07:04.\n",
            "  Batch 1,680  of  2,044.    Elapsed: 0:07:14.\n",
            "  Batch 1,720  of  2,044.    Elapsed: 0:07:24.\n",
            "  Batch 1,760  of  2,044.    Elapsed: 0:07:35.\n",
            "  Batch 1,800  of  2,044.    Elapsed: 0:07:45.\n",
            "  Batch 1,840  of  2,044.    Elapsed: 0:07:55.\n",
            "  Batch 1,880  of  2,044.    Elapsed: 0:08:06.\n",
            "  Batch 1,920  of  2,044.    Elapsed: 0:08:16.\n",
            "  Batch 1,960  of  2,044.    Elapsed: 0:08:26.\n",
            "  Batch 2,000  of  2,044.    Elapsed: 0:08:37.\n",
            "  Batch 2,040  of  2,044.    Elapsed: 0:08:47.\n",
            "\n",
            "  Average training loss: 0.00\n",
            "  Training epcoh took: 0:08:48\n",
            "\n",
            "Running Validation...\n",
            "  Accuracy: 0.99\n",
            "  Validation Loss: 0.05\n",
            "  Validation took: 0:00:19\n",
            "\n",
            "Training complete!\n",
            "Total training took 0:36:36 (h:mm:ss)\n"
          ],
          "name": "stdout"
        }
      ]
    },
    {
      "cell_type": "code",
      "metadata": {
        "id": "oPo7PBk9Poxn",
        "colab_type": "code",
        "outputId": "f7ca4147-60e2-4819-ab6c-85c9ca717201",
        "colab": {
          "base_uri": "https://localhost:8080/",
          "height": 198
        }
      },
      "source": [
        "pd.set_option('precision', 2)\n",
        "\n",
        "df_stats = pd.DataFrame(data=training_stats)\n",
        "\n",
        "df_stats = df_stats.set_index('epoch')\n",
        "\n",
        "df_stats"
      ],
      "execution_count": 0,
      "outputs": [
        {
          "output_type": "execute_result",
          "data": {
            "text/html": [
              "<div>\n",
              "<style scoped>\n",
              "    .dataframe tbody tr th:only-of-type {\n",
              "        vertical-align: middle;\n",
              "    }\n",
              "\n",
              "    .dataframe tbody tr th {\n",
              "        vertical-align: top;\n",
              "    }\n",
              "\n",
              "    .dataframe thead th {\n",
              "        text-align: right;\n",
              "    }\n",
              "</style>\n",
              "<table border=\"1\" class=\"dataframe\">\n",
              "  <thead>\n",
              "    <tr style=\"text-align: right;\">\n",
              "      <th></th>\n",
              "      <th>Training Loss</th>\n",
              "      <th>Valid. Loss</th>\n",
              "      <th>Valid. Accur.</th>\n",
              "      <th>Training Time</th>\n",
              "      <th>Validation Time</th>\n",
              "    </tr>\n",
              "    <tr>\n",
              "      <th>epoch</th>\n",
              "      <th></th>\n",
              "      <th></th>\n",
              "      <th></th>\n",
              "      <th></th>\n",
              "      <th></th>\n",
              "    </tr>\n",
              "  </thead>\n",
              "  <tbody>\n",
              "    <tr>\n",
              "      <th>1</th>\n",
              "      <td>1.03e-01</td>\n",
              "      <td>0.04</td>\n",
              "      <td>0.99</td>\n",
              "      <td>0:08:54</td>\n",
              "      <td>0:00:19</td>\n",
              "    </tr>\n",
              "    <tr>\n",
              "      <th>2</th>\n",
              "      <td>2.45e-02</td>\n",
              "      <td>0.04</td>\n",
              "      <td>0.99</td>\n",
              "      <td>0:08:49</td>\n",
              "      <td>0:00:19</td>\n",
              "    </tr>\n",
              "    <tr>\n",
              "      <th>3</th>\n",
              "      <td>7.39e-03</td>\n",
              "      <td>0.06</td>\n",
              "      <td>0.99</td>\n",
              "      <td>0:08:48</td>\n",
              "      <td>0:00:19</td>\n",
              "    </tr>\n",
              "    <tr>\n",
              "      <th>4</th>\n",
              "      <td>1.06e-03</td>\n",
              "      <td>0.05</td>\n",
              "      <td>0.99</td>\n",
              "      <td>0:08:48</td>\n",
              "      <td>0:00:19</td>\n",
              "    </tr>\n",
              "  </tbody>\n",
              "</table>\n",
              "</div>"
            ],
            "text/plain": [
              "       Training Loss  Valid. Loss  Valid. Accur. Training Time Validation Time\n",
              "epoch                                                                         \n",
              "1           1.03e-01         0.04           0.99       0:08:54         0:00:19\n",
              "2           2.45e-02         0.04           0.99       0:08:49         0:00:19\n",
              "3           7.39e-03         0.06           0.99       0:08:48         0:00:19\n",
              "4           1.06e-03         0.05           0.99       0:08:48         0:00:19"
            ]
          },
          "metadata": {
            "tags": []
          },
          "execution_count": 23
        }
      ]
    },
    {
      "cell_type": "code",
      "metadata": {
        "id": "toBHWDqLPwoR",
        "colab_type": "code",
        "colab": {}
      },
      "source": [
        "sns.set(style='darkgrid')\n",
        "\n",
        "sns.set(font_scale=0.5)\n",
        "plt.rcParams[\"figure.figsize\"] = (12,6)\n",
        "\n",
        "plt.plot(df_stats['Training Loss'], 'b-o', label=\"Training\")\n",
        "plt.plot(df_stats['Valid. Loss'], 'g-o', label=\"Validation\")\n",
        "\n",
        "plt.title(\"Training & Validation Loss\")\n",
        "plt.xlabel(\"Epoch\")\n",
        "plt.ylabel(\"Loss\")\n",
        "plt.legend()\n",
        "plt.xticks([1, 2, 3, 4])\n",
        "\n",
        "plt.show()"
      ],
      "execution_count": 0,
      "outputs": []
    },
    {
      "cell_type": "code",
      "metadata": {
        "id": "QViYaMjJQTsO",
        "colab_type": "code",
        "colab": {}
      },
      "source": [
        "model.eval()\n",
        "\n",
        "predictions , true_labels = [], []\n",
        "\n",
        "for batch in test_dataloader:\n",
        "  batch = tuple(t.to(device) for t in batch)\n",
        "  \n",
        "  b_input_ids, b_input_mask, b_labels = batch\n",
        "  \n",
        "  # Telling the model not to compute or store gradients, saving memory and \n",
        "  # speeding up prediction\n",
        "  with torch.no_grad():\n",
        "      # Forward pass, calculate logit predictions\n",
        "      outputs = model(b_input_ids, token_type_ids=None, \n",
        "                      attention_mask=b_input_mask)\n",
        "\n",
        "  logits = outputs[0]\n",
        "\n",
        "  # Move logits and labels to CPU\n",
        "  logits = logits.detach().cpu().numpy()\n",
        "  label_ids = b_labels.to('cpu').numpy()\n",
        "  \n",
        "  # Store predictions and true labels\n",
        "  predictions.append(logits)\n",
        "  true_labels.append(label_ids)"
      ],
      "execution_count": 0,
      "outputs": []
    },
    {
      "cell_type": "code",
      "metadata": {
        "id": "SkbnfmDQlTBC",
        "colab_type": "code",
        "outputId": "d5c0eedb-0d37-45a8-dce2-85a343ca41ed",
        "colab": {
          "base_uri": "https://localhost:8080/",
          "height": 86
        }
      },
      "source": [
        "flat_predictions = np.concatenate(predictions, axis=0)\n",
        "\n",
        "# For each sample, pick the label (0 or 1) with the higher score.\n",
        "flat_predictions = np.argmax(flat_predictions, axis=1).flatten()\n",
        "\n",
        "# Combine the correct labels for each batch into a single list.\n",
        "flat_true_labels = np.concatenate(true_labels, axis=0)\n",
        "\n",
        "print(\"Accuracy is:\", metrics.accuracy_score(flat_predictions,flat_true_labels))\n",
        "print(\"Mean Squared Error is:\", np.sqrt(mean_squared_error(flat_predictions, flat_true_labels)))\n",
        "b_cm = metrics.confusion_matrix(flat_predictions,flat_true_labels)\n",
        "print(b_cm)"
      ],
      "execution_count": 0,
      "outputs": [
        {
          "output_type": "stream",
          "text": [
            "Accuracy is: 0.99796573875803\n",
            "Mean Squared Error is: 0.04510278530168643\n",
            "[[4519   12]\n",
            " [   7 4802]]\n"
          ],
          "name": "stdout"
        }
      ]
    },
    {
      "cell_type": "code",
      "metadata": {
        "id": "XLX1Vyd3m-O5",
        "colab_type": "code",
        "outputId": "2860543f-9fdf-4e06-8e19-ec7047048c13",
        "colab": {
          "base_uri": "https://localhost:8080/",
          "height": 385
        }
      },
      "source": [
        "labels = np.array([['4519','12'],['7','4802']])\n",
        "sns.heatmap(b_cm, annot=labels, fmt = '')\n",
        "plt.show()"
      ],
      "execution_count": 0,
      "outputs": [
        {
          "output_type": "display_data",
          "data": {
            "image/png": "[encoded data removed]",
            "text/plain": [
              "<Figure size 864x432 with 2 Axes>"
            ]
          },
          "metadata": {
            "tags": []
          }
        }
      ]
    },
    {
      "cell_type": "code",
      "metadata": {
        "id": "8eSz1FqVpYEI",
        "colab_type": "code",
        "outputId": "318b7e69-e18d-4bc4-e1ec-ccf121d35e7c",
        "colab": {
          "base_uri": "https://localhost:8080/",
          "height": 190
        }
      },
      "source": [
        "print (metrics.roc_auc_score(flat_predictions, flat_true_labels))\n",
        "print(metrics.classification_report(flat_predictions, flat_true_labels))"
      ],
      "execution_count": 0,
      "outputs": [
        {
          "output_type": "stream",
          "text": [
            "0.9979479869712031\n",
            "              precision    recall  f1-score   support\n",
            "\n",
            "           0       1.00      1.00      1.00      4531\n",
            "           1       1.00      1.00      1.00      4809\n",
            "\n",
            "    accuracy                           1.00      9340\n",
            "   macro avg       1.00      1.00      1.00      9340\n",
            "weighted avg       1.00      1.00      1.00      9340\n",
            "\n"
          ],
          "name": "stdout"
        }
      ]
    }
  ]
}